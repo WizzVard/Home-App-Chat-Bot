{
 "cells": [
  {
   "cell_type": "code",
   "id": "initial_id",
   "metadata": {
    "collapsed": true,
    "ExecuteTime": {
     "end_time": "2024-07-31T14:06:41.742210Z",
     "start_time": "2024-07-31T14:06:41.295221Z"
    }
   },
   "source": "from langchain_community.graphs import Neo4jGraph",
   "outputs": [],
   "execution_count": 2
  },
  {
   "metadata": {
    "ExecuteTime": {
     "end_time": "2024-07-31T14:07:05.308475Z",
     "start_time": "2024-07-31T14:07:05.292423Z"
    }
   },
   "cell_type": "code",
   "source": [
    "NEO4J_URL = 'bolt://localhost:7687'\n",
    "NEO4J_USERNAME = (\"neo4j\")\n",
    "NEO4J_PASSWORD = (\"12345678\")\n",
    "NEO4J_DATABASE = (\"neo4j\")"
   ],
   "id": "1811dac5afd474d0",
   "outputs": [],
   "execution_count": 3
  },
  {
   "metadata": {
    "ExecuteTime": {
     "end_time": "2024-07-31T14:08:09.824216Z",
     "start_time": "2024-07-31T14:08:06.714909Z"
    }
   },
   "cell_type": "code",
   "source": "graph = Neo4jGraph(url=NEO4J_URL, username=NEO4J_USERNAME, password=NEO4J_PASSWORD, database=NEO4J_DATABASE)",
   "id": "b11f6f1bc96927e3",
   "outputs": [],
   "execution_count": 5
  },
  {
   "metadata": {
    "ExecuteTime": {
     "end_time": "2024-07-31T14:13:05.966914Z",
     "start_time": "2024-07-31T14:13:05.863917Z"
    }
   },
   "cell_type": "code",
   "source": [
    "# Delete everything in a database\n",
    "cypher = \"\"\"\n",
    "MATCH (n) \n",
    "DETACH DELETE n\n",
    "\"\"\"\n",
    "graph.query(cypher)"
   ],
   "id": "da10bd897f86e184",
   "outputs": [
    {
     "data": {
      "text/plain": [
       "[]"
      ]
     },
     "execution_count": 6,
     "metadata": {},
     "output_type": "execute_result"
    }
   ],
   "execution_count": 6
  },
  {
   "metadata": {},
   "cell_type": "code",
   "outputs": [],
   "execution_count": null,
   "source": "",
   "id": "1808b08e65a69b70"
  }
 ],
 "metadata": {
  "kernelspec": {
   "display_name": "Python 3",
   "language": "python",
   "name": "python3"
  },
  "language_info": {
   "codemirror_mode": {
    "name": "ipython",
    "version": 2
   },
   "file_extension": ".py",
   "mimetype": "text/x-python",
   "name": "python",
   "nbconvert_exporter": "python",
   "pygments_lexer": "ipython2",
   "version": "2.7.6"
  }
 },
 "nbformat": 4,
 "nbformat_minor": 5
}
