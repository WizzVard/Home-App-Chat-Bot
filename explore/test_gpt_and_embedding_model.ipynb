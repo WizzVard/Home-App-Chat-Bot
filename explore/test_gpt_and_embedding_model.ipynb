{
 "cells": [
  {
   "cell_type": "code",
   "id": "initial_id",
   "metadata": {
    "collapsed": true,
    "ExecuteTime": {
     "end_time": "2024-07-31T14:20:53.942241Z",
     "start_time": "2024-07-31T14:20:53.922643Z"
    }
   },
   "source": [
    "import os\n",
    "from dotenv import load_dotenv\n",
    "from openai import OpenAI\n",
    "from langchain.embeddings.openai import OpenAIEmbeddings\n",
    "import warnings\n",
    "warnings.filterwarnings(\"ignore\")\n",
    "load_dotenv()"
   ],
   "outputs": [
    {
     "data": {
      "text/plain": [
       "True"
      ]
     },
     "execution_count": 2,
     "metadata": {},
     "output_type": "execute_result"
    }
   ],
   "execution_count": 2
  },
  {
   "metadata": {
    "ExecuteTime": {
     "end_time": "2024-07-31T14:21:44.648276Z",
     "start_time": "2024-07-31T14:21:44.635273Z"
    }
   },
   "cell_type": "code",
   "source": "OPENAI_KEY = os.environ['OPENAI_API_KEY']",
   "id": "f4a3f0b7f4ecde5e",
   "outputs": [],
   "execution_count": 3
  },
  {
   "metadata": {
    "ExecuteTime": {
     "end_time": "2024-07-31T14:21:56.100278Z",
     "start_time": "2024-07-31T14:21:55.772267Z"
    }
   },
   "cell_type": "code",
   "source": "embedding = OpenAIEmbeddings()",
   "id": "b3fa7b3c555e1658",
   "outputs": [],
   "execution_count": 4
  },
  {
   "metadata": {
    "ExecuteTime": {
     "end_time": "2024-07-31T14:22:34.000288Z",
     "start_time": "2024-07-31T14:22:33.995297Z"
    }
   },
   "cell_type": "code",
   "source": [
    "llm_system_role = \"\"\"You are a chatbot. You'll receive a prompt that includes a chat history, retrieved content from the vectorDB based on the user's question, and the source.\\ \n",
    "    Your task is to respond to the user's new question using the information from the vectorDB without relying on your own knowledge.\\\n",
    "    you will receive a prompt with the the following format:\n",
    "\n",
    "    # Chat history:\\n\n",
    "    [user query, response]\\n\\n\n",
    "\n",
    "    # Retrieved content number:\\n\n",
    "    Content\\n\\n\n",
    "    Source\\n\\n\n",
    "\n",
    "    # User question:\\n\n",
    "    New question\n",
    "    \"\"\""
   ],
   "id": "5517e84f00984371",
   "outputs": [],
   "execution_count": 5
  },
  {
   "metadata": {
    "ExecuteTime": {
     "end_time": "2024-07-31T14:22:47.726124Z",
     "start_time": "2024-07-31T14:22:47.705128Z"
    }
   },
   "cell_type": "code",
   "source": "client = OpenAI(api_key=OPENAI_KEY)",
   "id": "a321e0da8d291466",
   "outputs": [],
   "execution_count": 6
  },
  {
   "metadata": {
    "ExecuteTime": {
     "end_time": "2024-07-31T14:24:16.736048Z",
     "start_time": "2024-07-31T14:24:15.771938Z"
    }
   },
   "cell_type": "code",
   "source": [
    "prompt = \"Who are you?\"\n",
    "response = client.chat.completions.create(\n",
    "    model=\"gpt-4o-mini\",\n",
    "    messages=[\n",
    "        {\"role\": \"system\", \"content\": llm_system_role},\n",
    "        {\"role\": \"user\", \"content\": prompt}\n",
    "    ]\n",
    ")\n",
    "print(response.choices[0].message.content)"
   ],
   "id": "9df09991e78aeb32",
   "outputs": [
    {
     "name": "stdout",
     "output_type": "stream",
     "text": [
      "I'm a chatbot designed to assist you by providing information and answering your questions based on the data I've been provided. How can I help you today?\n"
     ]
    }
   ],
   "execution_count": 7
  },
  {
   "metadata": {},
   "cell_type": "code",
   "outputs": [],
   "execution_count": null,
   "source": "",
   "id": "a157f6d9909ebafc"
  }
 ],
 "metadata": {
  "kernelspec": {
   "display_name": "Python 3",
   "language": "python",
   "name": "python3"
  },
  "language_info": {
   "codemirror_mode": {
    "name": "ipython",
    "version": 2
   },
   "file_extension": ".py",
   "mimetype": "text/x-python",
   "name": "python",
   "nbconvert_exporter": "python",
   "pygments_lexer": "ipython2",
   "version": "2.7.6"
  }
 },
 "nbformat": 4,
 "nbformat_minor": 5
}
