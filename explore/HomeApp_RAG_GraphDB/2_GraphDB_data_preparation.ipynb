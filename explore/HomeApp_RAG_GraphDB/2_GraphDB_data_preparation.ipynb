{
 "cells": [
  {
   "cell_type": "code",
   "id": "initial_id",
   "metadata": {
    "collapsed": true,
    "ExecuteTime": {
     "end_time": "2024-08-01T11:14:24.930410Z",
     "start_time": "2024-08-01T11:14:24.217753Z"
    }
   },
   "source": [
    "from langchain_community.graphs import Neo4jGraph\n",
    "import pandas as pd\n",
    "from pyprojroot import here\n",
    "import os\n",
    "from dotenv import load_dotenv\n",
    "load_dotenv()"
   ],
   "outputs": [
    {
     "data": {
      "text/plain": [
       "True"
      ]
     },
     "execution_count": 1,
     "metadata": {},
     "output_type": "execute_result"
    }
   ],
   "execution_count": 1
  },
  {
   "metadata": {
    "ExecuteTime": {
     "end_time": "2024-08-01T11:14:24.946748Z",
     "start_time": "2024-08-01T11:14:24.932429Z"
    }
   },
   "cell_type": "code",
   "source": [
    "NEO4J_URL = os.environ['NEO4J_URL']\n",
    "NEO4J_USERNAME = os.environ['NEO4J_USERNAME']\n",
    "NEO4J_PASSWORD = os.environ['NEO4J_PASSWORD']\n",
    "NEO4J_DATABASE = os.environ['NEO4J_DATABASE']"
   ],
   "id": "546b2f583c544ce5",
   "outputs": [],
   "execution_count": 2
  },
  {
   "metadata": {
    "ExecuteTime": {
     "end_time": "2024-08-01T11:14:28.150470Z",
     "start_time": "2024-08-01T11:14:24.949752Z"
    }
   },
   "cell_type": "code",
   "source": "graph = Neo4jGraph(url=NEO4J_URL, username=NEO4J_USERNAME, password=NEO4J_PASSWORD, database=NEO4J_DATABASE)",
   "id": "3e7de0078f904e60",
   "outputs": [],
   "execution_count": 3
  },
  {
   "metadata": {},
   "cell_type": "markdown",
   "source": "Clear the Neo4j Database",
   "id": "4cc19122cb7f73c0"
  },
  {
   "metadata": {
    "ExecuteTime": {
     "end_time": "2024-08-01T11:23:01.705683Z",
     "start_time": "2024-08-01T11:23:00.767277Z"
    }
   },
   "cell_type": "code",
   "source": "graph.query('MATCH (n) DETACH DELETE n')",
   "id": "7d995ee5466f15bb",
   "outputs": [
    {
     "data": {
      "text/plain": [
       "[]"
      ]
     },
     "execution_count": 9,
     "metadata": {},
     "output_type": "execute_result"
    }
   ],
   "execution_count": 9
  },
  {
   "metadata": {},
   "cell_type": "markdown",
   "source": [
    "Nodes:\n",
    "\n",
    "House: Represents a house. Each house node has attributes such as: house_id (a unique identifier for the   house), price (the price of the house), bedrooms (number of bedrooms), bathrooms (number of bathrooms), sqft_living (square footage of living space), sqft_lot (square footage of the lot), floors (number of floors), condition (condition of the house), sqft_basement (square footage of the basement), yr_built (year the house was built), yr_renovated (year the house was renovated).\n",
    "\n",
    "Street: Represents a street. Each street node has a single attribute: name (name of the street).\n",
    "\n",
    "City: Represents a city. Each city node has a single attribute: name (name of the city).\n",
    "\n",
    "Relationships:\n",
    "\n",
    "LOCATED_ON: A directional relationship from a House node to a Street node, signifying that the house is located on that street.\n",
    "\n",
    "LOCATED_IN: A directional relationship from a House node to a City node, signifying that the house is located in that city.\n",
    "\n",
    "Instructions in the Script:\n",
    "\n",
    "LOAD CSV WITH HEADERS: Loads a CSV file that contains the house data with headers indicating each column's purpose.\n",
    "\n",
    "MERGE: Ensures that a node or relationship is created if it does not already exist; otherwise, it matches the existing node or relationship. This prevents duplication.\n",
    "\n",
    "SET: Assigns properties to the nodes after they have been created or matched."
   ],
   "id": "f2ef545845c0f47"
  },
  {
   "metadata": {
    "ExecuteTime": {
     "end_time": "2024-08-01T11:23:03.338098Z",
     "start_time": "2024-08-01T11:23:03.316918Z"
    }
   },
   "cell_type": "code",
   "source": [
    "home_app_csv_path = here(\"data/home_app_data.csv\")\n",
    "home_app_df = pd.read_csv(home_app_csv_path)"
   ],
   "id": "74fcb7184fb22b8f",
   "outputs": [],
   "execution_count": 10
  },
  {
   "metadata": {
    "ExecuteTime": {
     "end_time": "2024-08-01T11:23:04.309334Z",
     "start_time": "2024-08-01T11:23:04.287354Z"
    }
   },
   "cell_type": "code",
   "source": [
    "display(home_app_df.head())\n",
    "print(home_app_df.shape)\n",
    "print(\"Data shape:\", home_app_df.shape)"
   ],
   "id": "e1e39c02d912ed8c",
   "outputs": [
    {
     "data": {
      "text/plain": [
       "   house_id    price  bedrooms  bathrooms  sqft_living  sqft_lot  floors  \\\n",
       "0         0   313000         3          2         1340      7912       1   \n",
       "1         1  2384000         5          3         3650      9050       2   \n",
       "2         2   342000         3          2         1930     11947       1   \n",
       "3         3   420000         3          2         2000      8030       1   \n",
       "4         4   550000         4          3         1940     10500       1   \n",
       "\n",
       "   condition  sqft_basement  yr_built  yr_renovated                    street  \\\n",
       "0          3              0      1955          2005      18810 Densmore Ave N   \n",
       "1          5            280      1921             0           709 W Blaine St   \n",
       "2          4              0      1966             0  26206-26214 143rd Ave SE   \n",
       "3          4           1000      1963             0           857 170th Pl NE   \n",
       "4          4            800      1976          1992         9105 170th Ave NE   \n",
       "\n",
       "        city  \n",
       "0  Shoreline  \n",
       "1    Seattle  \n",
       "2       Kent  \n",
       "3   Bellevue  \n",
       "4    Redmond  "
      ],
      "text/html": [
       "<div>\n",
       "<style scoped>\n",
       "    .dataframe tbody tr th:only-of-type {\n",
       "        vertical-align: middle;\n",
       "    }\n",
       "\n",
       "    .dataframe tbody tr th {\n",
       "        vertical-align: top;\n",
       "    }\n",
       "\n",
       "    .dataframe thead th {\n",
       "        text-align: right;\n",
       "    }\n",
       "</style>\n",
       "<table border=\"1\" class=\"dataframe\">\n",
       "  <thead>\n",
       "    <tr style=\"text-align: right;\">\n",
       "      <th></th>\n",
       "      <th>house_id</th>\n",
       "      <th>price</th>\n",
       "      <th>bedrooms</th>\n",
       "      <th>bathrooms</th>\n",
       "      <th>sqft_living</th>\n",
       "      <th>sqft_lot</th>\n",
       "      <th>floors</th>\n",
       "      <th>condition</th>\n",
       "      <th>sqft_basement</th>\n",
       "      <th>yr_built</th>\n",
       "      <th>yr_renovated</th>\n",
       "      <th>street</th>\n",
       "      <th>city</th>\n",
       "    </tr>\n",
       "  </thead>\n",
       "  <tbody>\n",
       "    <tr>\n",
       "      <th>0</th>\n",
       "      <td>0</td>\n",
       "      <td>313000</td>\n",
       "      <td>3</td>\n",
       "      <td>2</td>\n",
       "      <td>1340</td>\n",
       "      <td>7912</td>\n",
       "      <td>1</td>\n",
       "      <td>3</td>\n",
       "      <td>0</td>\n",
       "      <td>1955</td>\n",
       "      <td>2005</td>\n",
       "      <td>18810 Densmore Ave N</td>\n",
       "      <td>Shoreline</td>\n",
       "    </tr>\n",
       "    <tr>\n",
       "      <th>1</th>\n",
       "      <td>1</td>\n",
       "      <td>2384000</td>\n",
       "      <td>5</td>\n",
       "      <td>3</td>\n",
       "      <td>3650</td>\n",
       "      <td>9050</td>\n",
       "      <td>2</td>\n",
       "      <td>5</td>\n",
       "      <td>280</td>\n",
       "      <td>1921</td>\n",
       "      <td>0</td>\n",
       "      <td>709 W Blaine St</td>\n",
       "      <td>Seattle</td>\n",
       "    </tr>\n",
       "    <tr>\n",
       "      <th>2</th>\n",
       "      <td>2</td>\n",
       "      <td>342000</td>\n",
       "      <td>3</td>\n",
       "      <td>2</td>\n",
       "      <td>1930</td>\n",
       "      <td>11947</td>\n",
       "      <td>1</td>\n",
       "      <td>4</td>\n",
       "      <td>0</td>\n",
       "      <td>1966</td>\n",
       "      <td>0</td>\n",
       "      <td>26206-26214 143rd Ave SE</td>\n",
       "      <td>Kent</td>\n",
       "    </tr>\n",
       "    <tr>\n",
       "      <th>3</th>\n",
       "      <td>3</td>\n",
       "      <td>420000</td>\n",
       "      <td>3</td>\n",
       "      <td>2</td>\n",
       "      <td>2000</td>\n",
       "      <td>8030</td>\n",
       "      <td>1</td>\n",
       "      <td>4</td>\n",
       "      <td>1000</td>\n",
       "      <td>1963</td>\n",
       "      <td>0</td>\n",
       "      <td>857 170th Pl NE</td>\n",
       "      <td>Bellevue</td>\n",
       "    </tr>\n",
       "    <tr>\n",
       "      <th>4</th>\n",
       "      <td>4</td>\n",
       "      <td>550000</td>\n",
       "      <td>4</td>\n",
       "      <td>3</td>\n",
       "      <td>1940</td>\n",
       "      <td>10500</td>\n",
       "      <td>1</td>\n",
       "      <td>4</td>\n",
       "      <td>800</td>\n",
       "      <td>1976</td>\n",
       "      <td>1992</td>\n",
       "      <td>9105 170th Ave NE</td>\n",
       "      <td>Redmond</td>\n",
       "    </tr>\n",
       "  </tbody>\n",
       "</table>\n",
       "</div>"
      ]
     },
     "metadata": {},
     "output_type": "display_data"
    },
    {
     "name": "stdout",
     "output_type": "stream",
     "text": [
      "(4600, 13)\n",
      "Data shape: (4600, 13)\n"
     ]
    }
   ],
   "execution_count": 11
  },
  {
   "metadata": {},
   "cell_type": "markdown",
   "source": "Construct the knowlage graph and store the data in the Graph database",
   "id": "a21ee5c96ed3e3a2"
  },
  {
   "metadata": {
    "ExecuteTime": {
     "end_time": "2024-08-01T11:23:13.230324Z",
     "start_time": "2024-08-01T11:23:06.839365Z"
    }
   },
   "cell_type": "code",
   "source": [
    "# Define the query string with placeholders for parameters\n",
    "query = \"\"\"\n",
    "LOAD CSV WITH HEADERS FROM 'file:///' + $home_app_directory AS row    // Load CSV data from file  \n",
    "\n",
    "// Create a House Node and merge it with the id\n",
    "MERGE (h:House {id: row.house_id})                           \n",
    "// Set properties for House node:\n",
    "SET h.price = toInteger(row.price),\n",
    "    h.bedrooms = toInteger(row.bedrooms),\n",
    "    h.baths = toInteger(row.bathrooms),\n",
    "    h.sqft_living = toInteger(row.sqft_living),\n",
    "    h.sqft_lot = toInteger(row.sqft_lot),\n",
    "    h.floors = toFloat(row.floors),\n",
    "    h.condition = toInteger(row.condition),\n",
    "    h.sqft_basement = toInteger(row.sqft_basement),\n",
    "    h.yr_built = toInteger(row.yr_built),\n",
    "    h.yr_renovated = toInteger(row.yr_renovated)\n",
    "\n",
    "// Create a Street Node\n",
    "MERGE (s:Street {name: row.street})\n",
    "\n",
    "// Create a City Node\n",
    "MERGE (c:City {name: row.city})\n",
    "\n",
    "// Create relationships\n",
    "MERGE (h)-[:LOCATED_ON]->(s)\n",
    "MERGE (h)-[:LOCATED_IN]->(c)\n",
    "\"\"\"\n",
    "# Execute the query with the parameter\n",
    "graph.query(query, params={\"home_app_directory\": str(home_app_csv_path)})"
   ],
   "id": "59837d4cd7fb7e70",
   "outputs": [
    {
     "data": {
      "text/plain": [
       "[]"
      ]
     },
     "execution_count": 12,
     "metadata": {},
     "output_type": "execute_result"
    }
   ],
   "execution_count": 12
  },
  {
   "metadata": {
    "ExecuteTime": {
     "end_time": "2024-08-01T11:14:43.190975Z",
     "start_time": "2024-08-01T11:14:43.070965Z"
    }
   },
   "cell_type": "code",
   "source": [
    "graph.refresh_schema()\n",
    "print(graph.schema)"
   ],
   "id": "c6273cdc9661862e",
   "outputs": [
    {
     "name": "stdout",
     "output_type": "stream",
     "text": [
      "Node properties:\n",
      "Home {condition: INTEGER, sqft_basement: INTEGER, yr_built: INTEGER, yr_renovated: INTEGER, sqft_living: INTEGER, sqft_lot: INTEGER, floors: FLOAT, id: STRING, price: INTEGER, bedrooms: INTEGER, baths: INTEGER}\n",
      "Street {name: STRING}\n",
      "City {name: STRING}\n",
      "Relationship properties:\n",
      "\n",
      "The relationships:\n",
      "(:Home)-[:LOCATED_IN]->(:City)\n",
      "(:Home)-[:LOCATED_ON]->(:Street)\n"
     ]
    }
   ],
   "execution_count": 7
  },
  {
   "metadata": {},
   "cell_type": "markdown",
   "source": "Check the number of nodes that were created from the data",
   "id": "da01590470443ccb"
  },
  {
   "metadata": {
    "ExecuteTime": {
     "end_time": "2024-08-01T11:14:43.220966Z",
     "start_time": "2024-08-01T11:14:43.190975Z"
    }
   },
   "cell_type": "code",
   "source": [
    "# Match all nodes in the graph\n",
    "cypher = \"\"\"\n",
    "    MATCH (n)\n",
    "    RETURN count(n)\n",
    "\"\"\"\n",
    "result = graph.query(cypher)\n",
    "result"
   ],
   "id": "ab9269bfe77c14c3",
   "outputs": [
    {
     "data": {
      "text/plain": [
       "[{'count(n)': 9169}]"
      ]
     },
     "execution_count": 8,
     "metadata": {},
     "output_type": "execute_result"
    }
   ],
   "execution_count": 8
  },
  {
   "metadata": {
    "ExecuteTime": {
     "end_time": "2024-08-01T11:14:43.235973Z",
     "start_time": "2024-08-01T11:14:43.220966Z"
    }
   },
   "cell_type": "code",
   "source": "",
   "id": "e06e26cf57371c7a",
   "outputs": [],
   "execution_count": 8
  }
 ],
 "metadata": {
  "kernelspec": {
   "display_name": "Python 3",
   "language": "python",
   "name": "python3"
  },
  "language_info": {
   "codemirror_mode": {
    "name": "ipython",
    "version": 2
   },
   "file_extension": ".py",
   "mimetype": "text/x-python",
   "name": "python",
   "nbconvert_exporter": "python",
   "pygments_lexer": "ipython2",
   "version": "2.7.6"
  }
 },
 "nbformat": 4,
 "nbformat_minor": 5
}
