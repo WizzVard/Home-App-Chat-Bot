{
 "cells": [
  {
   "cell_type": "code",
   "id": "initial_id",
   "metadata": {
    "collapsed": true,
    "ExecuteTime": {
     "end_time": "2024-08-02T16:46:11.677637Z",
     "start_time": "2024-08-02T16:46:10.397338Z"
    }
   },
   "source": [
    "from langchain_community.graphs import Neo4jGraph\n",
    "from dotenv import load_dotenv\n",
    "from langchain_openai import ChatOpenAI\n",
    "from langchain.chains import GraphCypherQAChain\n",
    "import warnings\n",
    "import os\n",
    "warnings.filterwarnings(\"ignore\")"
   ],
   "outputs": [],
   "execution_count": 1
  },
  {
   "metadata": {
    "ExecuteTime": {
     "end_time": "2024-08-02T16:46:11.692933Z",
     "start_time": "2024-08-02T16:46:11.678641Z"
    }
   },
   "cell_type": "code",
   "source": "load_dotenv()",
   "id": "ecba8cb6869c6eef",
   "outputs": [
    {
     "data": {
      "text/plain": [
       "True"
      ]
     },
     "execution_count": 2,
     "metadata": {},
     "output_type": "execute_result"
    }
   ],
   "execution_count": 2
  },
  {
   "metadata": {
    "ExecuteTime": {
     "end_time": "2024-08-02T16:46:11.708431Z",
     "start_time": "2024-08-02T16:46:11.694924Z"
    }
   },
   "cell_type": "code",
   "source": "openai_api_key = os.environ[\"OPENAI_API_KEY\"]",
   "id": "31d93e8c43be798c",
   "outputs": [],
   "execution_count": 3
  },
  {
   "metadata": {},
   "cell_type": "markdown",
   "source": "Add Neo4j credentials",
   "id": "6efabc09e08518a7"
  },
  {
   "metadata": {
    "ExecuteTime": {
     "end_time": "2024-08-02T16:46:11.723711Z",
     "start_time": "2024-08-02T16:46:11.710388Z"
    }
   },
   "cell_type": "code",
   "source": [
    "NEO4J_URL = os.environ[\"NEO4J_URL\"]\n",
    "NEO4J_USERNAME = os.environ[\"NEO4J_USERNAME\"]\n",
    "NEO4J_PASSWORD = os.environ[\"NEO4J_PASSWORD\"]\n",
    "NEO4J_DATABASE = os.environ[\"NEO4J_DATABASE\"]"
   ],
   "id": "34d7476e55e86305",
   "outputs": [],
   "execution_count": 4
  },
  {
   "metadata": {
    "ExecuteTime": {
     "end_time": "2024-08-02T16:46:14.422202Z",
     "start_time": "2024-08-02T16:46:11.725716Z"
    }
   },
   "cell_type": "code",
   "source": "graph = Neo4jGraph(url=NEO4J_URL, username=NEO4J_USERNAME, password=NEO4J_PASSWORD, database=NEO4J_DATABASE)",
   "id": "ce1914175680f800",
   "outputs": [],
   "execution_count": 5
  },
  {
   "metadata": {},
   "cell_type": "markdown",
   "source": "Print the graph database schema",
   "id": "88704d1d70706466"
  },
  {
   "metadata": {
    "ExecuteTime": {
     "end_time": "2024-08-02T16:46:14.483573Z",
     "start_time": "2024-08-02T16:46:14.424322Z"
    }
   },
   "cell_type": "code",
   "source": [
    "graph.refresh_schema()\n",
    "print(graph.schema)"
   ],
   "id": "fcec3007f378019a",
   "outputs": [
    {
     "name": "stdout",
     "output_type": "stream",
     "text": [
      "Node properties:\n",
      "Street {name: STRING}\n",
      "City {name: STRING}\n",
      "House {condition: INTEGER, sqft_basement: INTEGER, yr_built: INTEGER, yr_renovated: INTEGER, sqft_living: INTEGER, sqft_lot: INTEGER, floors: FLOAT, id: STRING, price: INTEGER, bedrooms: INTEGER, baths: INTEGER}\n",
      "Relationship properties:\n",
      "\n",
      "The relationships:\n",
      "(:House)-[:LOCATED_IN]->(:City)\n",
      "(:House)-[:LOCATED_ON]->(:Street)\n"
     ]
    }
   ],
   "execution_count": 6
  },
  {
   "metadata": {},
   "cell_type": "markdown",
   "source": "Questions",
   "id": "20cda87ed318343c"
  },
  {
   "metadata": {
    "ExecuteTime": {
     "end_time": "2024-08-02T16:46:14.499470Z",
     "start_time": "2024-08-02T16:46:14.484571Z"
    }
   },
   "cell_type": "code",
   "source": [
    "q_one = \"I want six houses with 1 bedroom\"\n",
    "q_two = \"I want a house with price around 500000 and it should have 3 bedrooms\"\n",
    "q_three = \"Give me hoses that has been built in 2001, have 4 bedrooms and in a overall good condition\"\n",
    "q_four = \"Give me hoses that has been built after 2001, have 4 bedrooms and in a great condition, and have 1930 square feet in total\"\n",
    "q_five = \"I want a house with price greater than 300000 and it should be located in a Kent city\"\n",
    "q_six = \"Give me hoses that has been built after 2001 and in a great condition\""
   ],
   "id": "28aab15d1f719320",
   "outputs": [],
   "execution_count": 7
  },
  {
   "metadata": {},
   "cell_type": "markdown",
   "source": [
    "Chain\n",
    "\n",
    "Simple Agent (a):"
   ],
   "id": "7d4c5ff8842aa62d"
  },
  {
   "metadata": {
    "ExecuteTime": {
     "end_time": "2024-08-02T16:46:14.545816Z",
     "start_time": "2024-08-02T16:46:14.501558Z"
    }
   },
   "cell_type": "code",
   "source": [
    "model_name = \"gpt-4o-mini\"\n",
    "llm = ChatOpenAI(model=model_name, temperature=0)"
   ],
   "id": "d126ed0a0c9f2614",
   "outputs": [],
   "execution_count": 8
  },
  {
   "metadata": {
    "ExecuteTime": {
     "end_time": "2024-08-02T16:46:14.914318Z",
     "start_time": "2024-08-02T16:46:14.547918Z"
    }
   },
   "cell_type": "code",
   "source": "chain = GraphCypherQAChain.from_llm(graph=graph, llm=llm, verbose=True)",
   "id": "5de05fcd56c2b049",
   "outputs": [],
   "execution_count": 9
  },
  {
   "metadata": {
    "ExecuteTime": {
     "end_time": "2024-08-02T16:46:21.629426Z",
     "start_time": "2024-08-02T16:46:14.916300Z"
    }
   },
   "cell_type": "code",
   "source": [
    "response = chain.invoke({\"query\": q_one})\n",
    "print(response)\n",
    "print(\"\\nLLM response:\", response[\"result\"])"
   ],
   "id": "bfa1b5dc38a2499a",
   "outputs": [
    {
     "name": "stdout",
     "output_type": "stream",
     "text": [
      "\n",
      "\n",
      "\u001B[1m> Entering new GraphCypherQAChain chain...\u001B[0m\n",
      "Generated Cypher:\n",
      "\u001B[32;1m\u001B[1;3mcypher\n",
      "MATCH (h:House) \n",
      "WHERE h.bedrooms = 1 \n",
      "RETURN h \n",
      "LIMIT 6\n",
      "\u001B[0m\n",
      "Full Context:\n",
      "\u001B[32;1m\u001B[1;3m[{'h': {'bedrooms': 1, 'condition': 2, 'sqft_basement': 280, 'sqft_living': 1100, 'baths': 1, 'floors': 1.0, 'yr_built': 1947, 'price': 250000, 'sqft_lot': 4373, 'id': '260', 'yr_renovated': 0}}, {'h': {'bedrooms': 1, 'condition': 5, 'sqft_basement': 0, 'sqft_living': 810, 'baths': 1, 'floors': 1.0, 'yr_built': 1941, 'price': 235000, 'sqft_lot': 2451, 'id': '477', 'yr_renovated': 0}}, {'h': {'bedrooms': 1, 'condition': 3, 'sqft_basement': 0, 'sqft_living': 700, 'baths': 1, 'floors': 1.0, 'yr_built': 1942, 'price': 350000, 'sqft_lot': 5100, 'id': '784', 'yr_renovated': 1999}}, {'h': {'bedrooms': 1, 'condition': 3, 'sqft_basement': 0, 'sqft_living': 1140, 'baths': 1, 'floors': 1.0, 'yr_built': 1920, 'price': 540000, 'sqft_lot': 6700, 'id': '831', 'yr_renovated': 1979}}, {'h': {'bedrooms': 1, 'condition': 4, 'sqft_basement': 0, 'sqft_living': 810, 'baths': 2, 'floors': 2.0, 'yr_built': 1982, 'price': 285000, 'sqft_lot': 3211, 'id': '883', 'yr_renovated': 2011}}, {'h': {'bedrooms': 1, 'condition': 3, 'sqft_basement': 670, 'sqft_living': 2140, 'baths': 2, 'floors': 1.0, 'yr_built': 1976, 'price': 458000, 'sqft_lot': 10350, 'id': '969', 'yr_renovated': 0}}]\u001B[0m\n",
      "\n",
      "\u001B[1m> Finished chain.\u001B[0m\n",
      "{'query': 'I want six houses with 1 bedroom', 'result': 'Here are six houses with 1 bedroom:\\n\\n1. House ID: 260 - Price: $250,000, Condition: 2, Year Built: 1947, Living Area: 1,100 sqft, Lot Size: 4,373 sqft, Baths: 1, Floors: 1.0.\\n2. House ID: 477 - Price: $235,000, Condition: 5, Year Built: 1941, Living Area: 810 sqft, Lot Size: 2,451 sqft, Baths: 1, Floors: 1.0.\\n3. House ID: 784 - Price: $350,000, Condition: 3, Year Built: 1942, Living Area: 700 sqft, Lot Size: 5,100 sqft, Baths: 1, Floors: 1.0, Renovated: 1999.\\n4. House ID: 831 - Price: $540,000, Condition: 3, Year Built: 1920, Living Area: 1,140 sqft, Lot Size: 6,700 sqft, Baths: 1, Floors: 1.0, Renovated: 1979.\\n5. House ID: 883 - Price: $285,000, Condition: 4, Year Built: 1982, Living Area: 810 sqft, Lot Size: 3,211 sqft, Baths: 2, Floors: 2.0, Renovated: 2011.\\n6. House ID: 969 - Price: $458,000, Condition: 3, Year Built: 1976, Living Area: 2,140 sqft, Lot Size: 10,350 sqft, Baths: 2, Floors: 1.0.'}\n",
      "\n",
      "LLM response: Here are six houses with 1 bedroom:\n",
      "\n",
      "1. House ID: 260 - Price: $250,000, Condition: 2, Year Built: 1947, Living Area: 1,100 sqft, Lot Size: 4,373 sqft, Baths: 1, Floors: 1.0.\n",
      "2. House ID: 477 - Price: $235,000, Condition: 5, Year Built: 1941, Living Area: 810 sqft, Lot Size: 2,451 sqft, Baths: 1, Floors: 1.0.\n",
      "3. House ID: 784 - Price: $350,000, Condition: 3, Year Built: 1942, Living Area: 700 sqft, Lot Size: 5,100 sqft, Baths: 1, Floors: 1.0, Renovated: 1999.\n",
      "4. House ID: 831 - Price: $540,000, Condition: 3, Year Built: 1920, Living Area: 1,140 sqft, Lot Size: 6,700 sqft, Baths: 1, Floors: 1.0, Renovated: 1979.\n",
      "5. House ID: 883 - Price: $285,000, Condition: 4, Year Built: 1982, Living Area: 810 sqft, Lot Size: 3,211 sqft, Baths: 2, Floors: 2.0, Renovated: 2011.\n",
      "6. House ID: 969 - Price: $458,000, Condition: 3, Year Built: 1976, Living Area: 2,140 sqft, Lot Size: 10,350 sqft, Baths: 2, Floors: 1.0.\n"
     ]
    }
   ],
   "execution_count": 10
  },
  {
   "metadata": {
    "ExecuteTime": {
     "end_time": "2024-08-02T16:46:26.329914Z",
     "start_time": "2024-08-02T16:46:21.630433Z"
    }
   },
   "cell_type": "code",
   "source": [
    "response = chain.invoke({\"query\": q_two})\n",
    "print(response)\n",
    "print(\"\\nLLM response:\", response[\"result\"])"
   ],
   "id": "642c021e87acf802",
   "outputs": [
    {
     "name": "stdout",
     "output_type": "stream",
     "text": [
      "\n",
      "\n",
      "\u001B[1m> Entering new GraphCypherQAChain chain...\u001B[0m\n",
      "Generated Cypher:\n",
      "\u001B[32;1m\u001B[1;3mcypher\n",
      "MATCH (h:House)\n",
      "WHERE h.price >= 490000 AND h.price <= 510000 AND h.bedrooms = 3\n",
      "RETURN h\n",
      "\u001B[0m\n",
      "Full Context:\n",
      "\u001B[32;1m\u001B[1;3m[{'h': {'bedrooms': 3, 'condition': 3, 'sqft_basement': 0, 'sqft_living': 1790, 'baths': 3, 'floors': 2.0, 'yr_built': 2010, 'price': 509900, 'sqft_lot': 2700, 'id': '138', 'yr_renovated': 0}}, {'h': {'bedrooms': 3, 'condition': 3, 'sqft_basement': 0, 'sqft_living': 1480, 'baths': 3, 'floors': 3.0, 'yr_built': 2006, 'price': 500000, 'sqft_lot': 1171, 'id': '222', 'yr_renovated': 0}}, {'h': {'bedrooms': 3, 'condition': 3, 'sqft_basement': 0, 'sqft_living': 990, 'baths': 1, 'floors': 1.0, 'yr_built': 1943, 'price': 495000, 'sqft_lot': 6000, 'id': '231', 'yr_renovated': 2002}}, {'h': {'bedrooms': 3, 'condition': 5, 'sqft_basement': 330, 'sqft_living': 1540, 'baths': 3, 'floors': 1.0, 'yr_built': 1980, 'price': 503000, 'sqft_lot': 6760, 'id': '235', 'yr_renovated': 0}}, {'h': {'bedrooms': 3, 'condition': 4, 'sqft_basement': 0, 'sqft_living': 1940, 'baths': 3, 'floors': 1.0, 'yr_built': 1987, 'price': 500000, 'sqft_lot': 37565, 'id': '286', 'yr_renovated': 0}}, {'h': {'bedrooms': 3, 'condition': 3, 'sqft_basement': 0, 'sqft_living': 1410, 'baths': 2, 'floors': 3.0, 'yr_built': 2012, 'price': 500000, 'sqft_lot': 1197, 'id': '382', 'yr_renovated': 1912}}, {'h': {'bedrooms': 3, 'condition': 3, 'sqft_basement': 0, 'sqft_living': 2310, 'baths': 3, 'floors': 2.0, 'yr_built': 2011, 'price': 494000, 'sqft_lot': 4729, 'id': '385', 'yr_renovated': 0}}, {'h': {'bedrooms': 3, 'condition': 3, 'sqft_basement': 0, 'sqft_living': 2100, 'baths': 3, 'floors': 2.0, 'yr_built': 1999, 'price': 505000, 'sqft_lot': 5824, 'id': '409', 'yr_renovated': 0}}, {'h': {'bedrooms': 3, 'condition': 4, 'sqft_basement': 450, 'sqft_living': 1750, 'baths': 2, 'floors': 1.0, 'yr_built': 1987, 'price': 491300, 'sqft_lot': 11340, 'id': '434', 'yr_renovated': 0}}, {'h': {'bedrooms': 3, 'condition': 3, 'sqft_basement': 220, 'sqft_living': 980, 'baths': 1, 'floors': 1.0, 'yr_built': 1941, 'price': 499950, 'sqft_lot': 6380, 'id': '501', 'yr_renovated': 1994}}]\u001B[0m\n",
      "\n",
      "\u001B[1m> Finished chain.\u001B[0m\n",
      "{'query': 'I want a house with price around 500000 and it should have 3 bedrooms', 'result': 'Here are some houses with around a $500,000 price range that have 3 bedrooms:\\n\\n1. A house built in 2006 with 3 bedrooms, 3 baths, and a price of $500,000. It has a living space of 1,480 sqft and a lot size of 1,171 sqft.\\n2. A house built in 1987 with 3 bedrooms, 3 baths, and a price of $500,000. It features 1,940 sqft of living space and a lot size of 37,565 sqft.\\n3. A house built in 2012 with 3 bedrooms, 2 baths, and a price of $500,000. It has a living area of 1,410 sqft and a lot size of 1,197 sqft.\\n4. A house built in 1999 with 3 bedrooms, 3 baths, and a price of $505,000. It offers 2,100 sqft of living space and a lot size of 5,824 sqft.\\n5. A house built in 1987 with 3 bedrooms, 2 baths, and a price of $491,300. It has a living area of 1,750 sqft and a lot size of 11,340 sqft.\\n\\nThese options should meet your criteria!'}\n",
      "\n",
      "LLM response: Here are some houses with around a $500,000 price range that have 3 bedrooms:\n",
      "\n",
      "1. A house built in 2006 with 3 bedrooms, 3 baths, and a price of $500,000. It has a living space of 1,480 sqft and a lot size of 1,171 sqft.\n",
      "2. A house built in 1987 with 3 bedrooms, 3 baths, and a price of $500,000. It features 1,940 sqft of living space and a lot size of 37,565 sqft.\n",
      "3. A house built in 2012 with 3 bedrooms, 2 baths, and a price of $500,000. It has a living area of 1,410 sqft and a lot size of 1,197 sqft.\n",
      "4. A house built in 1999 with 3 bedrooms, 3 baths, and a price of $505,000. It offers 2,100 sqft of living space and a lot size of 5,824 sqft.\n",
      "5. A house built in 1987 with 3 bedrooms, 2 baths, and a price of $491,300. It has a living area of 1,750 sqft and a lot size of 11,340 sqft.\n",
      "\n",
      "These options should meet your criteria!\n"
     ]
    }
   ],
   "execution_count": 11
  },
  {
   "metadata": {
    "ExecuteTime": {
     "end_time": "2024-08-02T16:46:28.686959Z",
     "start_time": "2024-08-02T16:46:26.331031Z"
    }
   },
   "cell_type": "code",
   "source": [
    "response = chain.invoke({\"query\": q_three})\n",
    "print(response)\n",
    "print(\"\\nLLM response:\", response[\"result\"])"
   ],
   "id": "446d8b5ebb5a5cd9",
   "outputs": [
    {
     "name": "stdout",
     "output_type": "stream",
     "text": [
      "\n",
      "\n",
      "\u001B[1m> Entering new GraphCypherQAChain chain...\u001B[0m\n",
      "Generated Cypher:\n",
      "\u001B[32;1m\u001B[1;3mcypher\n",
      "MATCH (h:House)\n",
      "WHERE h.yr_built = 2001 AND h.bedrooms = 4 AND h.condition > 3\n",
      "RETURN h\n",
      "\u001B[0m\n",
      "Full Context:\n",
      "\u001B[32;1m\u001B[1;3m[{'h': {'bedrooms': 4, 'condition': 4, 'sqft_basement': 0, 'sqft_living': 2280, 'baths': 3, 'floors': 2.0, 'yr_built': 2001, 'price': 433000, 'sqft_lot': 7568, 'id': '818', 'yr_renovated': 0}}]\u001B[0m\n",
      "\n",
      "\u001B[1m> Finished chain.\u001B[0m\n",
      "{'query': 'Give me hoses that has been built in 2001, have 4 bedrooms and in a overall good condition', 'result': 'I have a house that was built in 2001, has 4 bedrooms, and is in overall good condition. It features 3 baths, 2 floors, a living area of 2,280 sqft, and a lot size of 7,568 sqft, with a price of $433,000.'}\n",
      "\n",
      "LLM response: I have a house that was built in 2001, has 4 bedrooms, and is in overall good condition. It features 3 baths, 2 floors, a living area of 2,280 sqft, and a lot size of 7,568 sqft, with a price of $433,000.\n"
     ]
    }
   ],
   "execution_count": 12
  },
  {
   "metadata": {},
   "cell_type": "markdown",
   "source": "Improved Agents: Contains 4 steps",
   "id": "aac0c19f2783e376"
  },
  {
   "metadata": {},
   "cell_type": "markdown",
   "source": [
    "1. Detecting entities in the user input\n",
    "\n",
    "2. Match entities to database\n",
    "\n",
    "3. Define a custom Cypher prompt that takes the entity mapping information along with the schema and the user question to construct a Cypher statement\n",
    "\n",
    "4. Generating answers based on database results"
   ],
   "id": "46ce7f6aae1accf2"
  },
  {
   "metadata": {},
   "cell_type": "markdown",
   "source": [
    "Strategies to improve graph database query generation by mapping values from user inputs to database\n",
    "\n",
    "When using the built-in graph chains, the LLM is aware of the graph schema, but has no information about the values of properties stored in the database. Therefore, we can introduce a new step in graph database Q&A system to accurately map values.\n",
    "\n",
    "Detecting entities in the user input\n",
    "\n",
    "We have to extract te types of entities/values we want to map to a graph database. In this example, we ar dealing with a movies graph, so we can map movies and people to the database."
   ],
   "id": "cf1d5d63954da2be"
  },
  {
   "metadata": {
    "ExecuteTime": {
     "end_time": "2024-08-02T16:46:28.717516Z",
     "start_time": "2024-08-02T16:46:28.687962Z"
    }
   },
   "cell_type": "code",
   "source": [
    "from openai import OpenAI\n",
    "\n",
    "client = OpenAI(api_key=openai_api_key)"
   ],
   "id": "6ea6c9e4ed2b8b72",
   "outputs": [],
   "execution_count": 13
  },
  {
   "metadata": {
    "ExecuteTime": {
     "end_time": "2024-08-02T16:46:28.732941Z",
     "start_time": "2024-08-02T16:46:28.720493Z"
    }
   },
   "cell_type": "code",
   "source": [
    "# system_message = \"\"\"\n",
    "# HomeHapp is an AI-powered assistant to help users find their ideal homes. By engaging in natural conversations, HomeHapp aims to understand users' lifestyle preferences, living spaces, and housing requirements, providing valuable insights and recommendations to make the house-hunting process more efficient and enjoyable. With extensive access to prime and super-prime London properties, including off-market, unlisted properties, HomeHapp can quickly identify homes that closely match users' visions and requirements.\n",
    "# \n",
    "# Key Features\n",
    "# 1. Understands and responds to user queries related to finding the property they are looking for.\n",
    "# 2. Offers personalized advice and recommendations based on user preferences\n",
    "# 3. Generates human-like text for natural, engaging conversations\n",
    "# 4. Focuses on helping users express and define their criteria and preferences for property selection.\n",
    "# 5. Currently serves USA homes priced between 100.000 to 3 million. HomeHapp doesn't currently serve properties outside of USA\n",
    "# \n",
    "# Key guidelines for HomeHapp:\n",
    "# \n",
    "# Search bot should have following steps of interaction with a user:\n",
    "# \n",
    "# 1.1 Collect information about users desired properties\n",
    "# 1.2 Prioritize understanding users' specific requirements and preferences\n",
    "# 1.3 Maintain a friendly, professional tone throughout the conversation\n",
    "# 1.4 Use native knowledge to answer general property and estate-related questions\n",
    "# 1.5 Ask for missing information, encourage detailed preferences, and summarize requirements\n",
    "# 1.7 Keep users informed about the search process and set expectations for the results\n",
    "# \n",
    "# Conversation Flow\n",
    "# 1. Greet the user inquire about their property requirements and preferences\n",
    "# 2. Ask for missing information\n",
    "# 3. Summarize and confirm user requirements\n",
    "# \n",
    "# 1.1 Conversation Flow ( prompts )\n",
    "# \n",
    "# 1. Greeting: The bot begins by warmly greeting the user, engaging them in a friendly and conversational manner.\n",
    "#  Initial Inquiry: It then inquires about the type of property the user is looking for, encouraging them to share both key requirements and personal preferences that would make the property ideal for their lifestyle.\n",
    "# Available attributes that the bot should consider asking are Price of the house, Number of bedrooms, Number of bathrooms, Square footage of living space, Total area of the land, Number of floors, Condition, Area of the basement, Year Built, Year Renovated, City and the number of houses.\n",
    "# 2. Ask for missing information: The bot swiftly inquires about any missing features from this list:\n",
    "# Available attributes that the bot should consider asking are Price of the house, Number of bedrooms, Number of bathrooms, Square footage of living space, Total area of the land, Number of floors, Condition, Area of the basement, Year Built, Year Renovated, City and the number of houses.\n",
    "# 3. Summarization and Confirmation: The bot summarizes the user's requirements and asks for confirmation.\n",
    "# \n",
    "# 1.2 Conversation Flow example:\n",
    "# \n",
    "# - User: \"I'm looking for a three-bedroom house in Seattle. I would like the house to have 3 bedrooms and 2 bathrooms.\"\n",
    "# - HomeHapp: \"Great! To help narrow down the search, could you please provide your budget for this apartment?\"\n",
    "# - User: \"I'm thinking around 500k.\"\n",
    "# - HomeHapp: \"Thank you for the information. To further refine the search, are there any other essential property features \n",
    "# like square footage of living space, total area of the land, number of floors, condition, area of the basement, Year Built, or Year Renovated you're looking for?\"\n",
    "# - User: \"I would like the living area to be more around 1900 sqft.\"\n",
    "# - HomeHapp: \"Noted. Let me summarize your requirements:\n",
    "#   - Three-bedroom house in Seattle\n",
    "#   - Budget: 500.000\n",
    "#   - Number of bedrooms: 3\n",
    "#   - Number of bathrooms: 2\n",
    "#   - Square footage of living space: 1900 sqft\n",
    "# \n",
    "#   I'll begin the search now. I'll present the best matches shortly.\"\n",
    "# \n",
    "# \n",
    "# 2. Frequently asked questions and suggested answers:\n",
    "# \n",
    "# Q: Who are you and what can you do?\n",
    "# A: I'm a ChatGPT-4 powered AI property search assistant. I can help you find best suited prime and super prime properties in London, offer insights into the real estate market, and guide you through the property buying process.\n",
    "# \n",
    "# Q: Can you help me find properties outside USA?\n",
    "# A: Currently, my primary focus is on the USA market.\n",
    "# \n",
    "# Q: Do you speak any language other than English?\n",
    "# A: Currently, I operate primarily in English. However, future updates may include multilingual support to cater to a wider range of users.\n",
    "# \n",
    "# Q: Can you tell me how to use this app?\n",
    "# A: While I can offer general guidance on real estate apps, specific instructions for using the HomeHap app, including features and navigation, would typically be found within the app's help section or user manual.\n",
    "# \n",
    "# For Developer:\n",
    "# \n",
    "# - After the bot summarizes the user's hard criteria, store these criteria in a dictionary. The dictionary should include keys such as 'price', 'bedrooms', 'bathrooms', 'sqft_living', 'sqft_lot', 'floors', 'condition', 'sqft_basement', 'yr_built', and 'yr_renovated'.\n",
    "# \n",
    "# - Implement a flag, `information_complete`, initially set to `False`. This flag should be set to `True` once the bot has gathered all necessary information from the user and has made the summarization.\n",
    "# \n",
    "# Example:\n",
    "# \n",
    "# ```python\n",
    "# user_criteria = {\n",
    "#     \"price\": None,\n",
    "#     \"bedrooms\": None,\n",
    "#     \"bathrooms\": None,\n",
    "#     \"sqft_living\": None,\n",
    "#     \"sqft_lot\": None,\n",
    "#     \"floors\": None,\n",
    "#     \"condition\": None,\n",
    "#     \"sqft_basement\": None,\n",
    "#     \"yr_built\": None,\n",
    "#     \"yr_renovated\": None,\n",
    "#     \"city\": None,\n",
    "#     \"limit\": None\n",
    "# }\n",
    "# \n",
    "# information_complete = False\n",
    "# \n",
    "# # Update user_criteria based on user input, and set information_complete to True when summarization was made.\n",
    "# \"\"\""
   ],
   "id": "190b523db543496e",
   "outputs": [],
   "execution_count": 14
  },
  {
   "metadata": {
    "ExecuteTime": {
     "end_time": "2024-08-02T16:46:28.748858Z",
     "start_time": "2024-08-02T16:46:28.734928Z"
    }
   },
   "cell_type": "code",
   "source": [
    "# def generate_final_output(llm_role):\n",
    "#     # User prompt\n",
    "#     user_prompt = mapped_attributes\n",
    "#     \n",
    "#     # Create the chat completion\n",
    "#     llm_response = client.chat.completions.create(\n",
    "#         model=\"gpt-4o-mini\",  # Specify the model you want to use\n",
    "#         messages=[\n",
    "#             {\"role\": \"system\", \"content\": llm_role},\n",
    "#             {\"role\": \"user\", \"content\": user_prompt}\n",
    "#         ]\n",
    "#     )\n",
    "#     \n",
    "#     return llm_response.choices[0].message.content"
   ],
   "id": "1771d064391e6875",
   "outputs": [],
   "execution_count": 15
  },
  {
   "metadata": {
    "ExecuteTime": {
     "end_time": "2024-08-02T16:46:28.764042Z",
     "start_time": "2024-08-02T16:46:28.750861Z"
    }
   },
   "cell_type": "code",
   "source": "",
   "id": "d68bf287add9d65d",
   "outputs": [],
   "execution_count": 15
  },
  {
   "metadata": {
    "ExecuteTime": {
     "end_time": "2024-08-02T16:46:28.779404Z",
     "start_time": "2024-08-02T16:46:28.765044Z"
    }
   },
   "cell_type": "code",
   "source": "",
   "id": "a2d523e38be744a9",
   "outputs": [],
   "execution_count": 15
  },
  {
   "metadata": {
    "ExecuteTime": {
     "end_time": "2024-08-02T16:46:28.794821Z",
     "start_time": "2024-08-02T16:46:28.780414Z"
    }
   },
   "cell_type": "code",
   "source": "print(q_three)",
   "id": "4611711993265fa2",
   "outputs": [
    {
     "name": "stdout",
     "output_type": "stream",
     "text": [
      "Give me hoses that has been built in 2001, have 4 bedrooms and in a overall good condition\n"
     ]
    }
   ],
   "execution_count": 16
  },
  {
   "metadata": {
    "ExecuteTime": {
     "end_time": "2024-08-02T16:46:28.810279Z",
     "start_time": "2024-08-02T16:46:28.795833Z"
    }
   },
   "cell_type": "code",
   "source": [
    "# System role definition\n",
    "system_role = (\n",
    "    \"\"\"\n",
    "    You are given a question about house preferences. Your task is to extract specific attributes and their corresponding values based on the user's requirements. Ignore explainable words such as \"location\" when it relates to city and street and \"dollars\" or \"usd\" when it relates to price. Additionally, convert any qualitative descriptions like \"great\" or \"excellent\" into a numerical value based on a scale of 1-5. Return the information as a dictionary where the keys are the column names from the database and the values are the user's specified numbers.\n",
    "\n",
    "    Guidelines for Attribute Extraction:\n",
    "        price:\n",
    "            Extract numerical values directly related to the house's price.\n",
    "            Assign to `max_price` if the context implies an upper bound (e.g., \"less than 7 million\", \"up to 200000\").\n",
    "            Assign to `min_price` if the context implies a lower bound (e.g., \"more than 500000 dollars\").\n",
    "            Handle cases where prices are mentioned in terms like \"thousands,\" \"500k,\" or \"millions\" by converting them to numerical values (e.g., 500k to 500000, 7 million to 7000000).\n",
    "            You can not assign more than one of these price attributes.\n",
    "        bedrooms: Extract the number of bedrooms.\n",
    "        bathrooms: Extract the number of bathrooms.\n",
    "        Square Footage:\n",
    "            Assign to sqft_living if it refers to the total interior living space.\n",
    "            Assign to sqft_lot if it refers to the total land area.\n",
    "            Assign to sqft_basement if the context specifically mentions basement square footage.\n",
    "        floors: Extract the number of floors in the house.\n",
    "        condition: Convert qualitative descriptions of condition into numerical values:\n",
    "            \"Poor\" = 1\n",
    "            \"Fair\" = 2\n",
    "            \"Good\" = 3\n",
    "            \"Very Good\" = 4\n",
    "            \"Great\" or \"Excellent\" = 5\n",
    "        year:\n",
    "            Extract numerical values directly related to the house's year of construction or renovation.\n",
    "            Assign to `yr_built` if the context clearly indicates the original construction of the house (e.g., \"built in 1995\", \"constructed in 2002\").\n",
    "            Assign to `yr_renovated` if the context suggests any renovation, update, or refurbishment year (e.g., \"renovated in 2010\", \"updated in 2015\").\n",
    "            Look for keywords such as \"built,\" \"constructed,\" \"originally,\" \"new,\" or \"first built\" to determine `yr_built`.\n",
    "            Identify terms like \"renovated,\" \"updated,\" \"modernized,\" \"refurbished,\" or \"redone\" to assign to `yr_renovated`.\n",
    "            Give precedence to `yr_renovated` over `yr_built` if both are mentioned in the same context, as renovation is often a newer event.\n",
    "            Ensure that each year is only assigned to one category and does not overlap.\n",
    "        street:\n",
    "            Extract street names into the street column.\n",
    "        city:\n",
    "            Extract city names into the city column.\n",
    "        limit:\n",
    "            Extract the number if the user specifies a limit to the number of houses they want (e.g., \"show me 5 houses\", \"I want to see 10 listings\").\n",
    "            Ensure that the number is extracted and assigned to the `limit` attribute.\n",
    "        number conversion:\n",
    "            Convert numbers written as words into digits (e.g., \"four\" to 4, \"five\" to 5).\n",
    "    \"\"\"\n",
    ")"
   ],
   "id": "ad783baf81878e92",
   "outputs": [],
   "execution_count": 17
  },
  {
   "metadata": {
    "ExecuteTime": {
     "end_time": "2024-08-02T16:46:28.825481Z",
     "start_time": "2024-08-02T16:46:28.811289Z"
    }
   },
   "cell_type": "code",
   "source": [
    "import json\n",
    "import re"
   ],
   "id": "3be3343395c4a117",
   "outputs": [],
   "execution_count": 18
  },
  {
   "metadata": {
    "ExecuteTime": {
     "end_time": "2024-08-02T16:46:28.840829Z",
     "start_time": "2024-08-02T16:46:28.827484Z"
    }
   },
   "cell_type": "code",
   "source": [
    "def extract_attributes(llm_role, question):\n",
    "    # User prompt\n",
    "    user_prompt = (\n",
    "        \"### User Prompt ###\\n\"\n",
    "        f\"{question}\\n\"\n",
    "        \"### Response ###\\n\"\n",
    "        \"Please respond with a dictionary.\\n\"\n",
    "    )\n",
    "    \n",
    "    # Create the chat completion\n",
    "    llm_response = client.chat.completions.create(\n",
    "        model=\"gpt-4o-mini\",  # Specify the model you want to use\n",
    "        messages=[\n",
    "            {\"role\": \"system\", \"content\": llm_role},\n",
    "            {\"role\": \"user\", \"content\": user_prompt}\n",
    "        ]\n",
    "    )\n",
    "    \n",
    "    response_content = llm_response.choices[0].message.content\n",
    "\n",
    "    # Remove any code block formatting\n",
    "    response_content = response_content.strip(\"```python\").strip(\"```\").strip()\n",
    "\n",
    "    # Try to parse the response content as JSON\n",
    "    try:\n",
    "        attributes_dict = json.loads(response_content)\n",
    "    except json.JSONDecodeError:\n",
    "        print(f\"Error decoding JSON. Attempting to parse manually.\")\n",
    "        attributes_dict = {}\n",
    "\n",
    "        # Use regex to capture dictionary format if it's not a valid JSON\n",
    "        match = re.search(r'{[^}]*}', response_content)\n",
    "        if match:\n",
    "            try:\n",
    "                attributes_dict = eval(match.group())\n",
    "            except Exception as e:\n",
    "                print(f\"Error evaluating the dictionary: {e}\")\n",
    "    \n",
    "    return attributes_dict\n",
    "\n"
   ],
   "id": "3b0efaa558585055",
   "outputs": [],
   "execution_count": 19
  },
  {
   "metadata": {
    "ExecuteTime": {
     "end_time": "2024-08-02T16:46:38.254059Z",
     "start_time": "2024-08-02T16:46:28.841840Z"
    }
   },
   "cell_type": "code",
   "source": [
    "for i in range(10):\n",
    "    print(f\"Response {i+1}: {extract_attributes(system_role, q_one)}\")"
   ],
   "id": "bb906dd736903a91",
   "outputs": [
    {
     "name": "stdout",
     "output_type": "stream",
     "text": [
      "Response 1: {'limit': 6, 'bedrooms': 1}\n",
      "Response 2: {'limit': 6, 'bedrooms': 1}\n",
      "Response 3: {'limit': 6, 'bedrooms': 1}\n",
      "Response 4: {'limit': 6, 'bedrooms': 1}\n",
      "Response 5: {'limit': 6, 'bedrooms': 1}\n",
      "Response 6: {'limit': 6, 'bedrooms': 1}\n",
      "Response 7: {'limit': 6, 'bedrooms': 1}\n",
      "Response 8: {'limit': 6, 'bedrooms': 1}\n",
      "Response 9: {'limit': 6, 'bedrooms': 1}\n",
      "Response 10: {'limit': 6, 'bedrooms': 1}\n"
     ]
    }
   ],
   "execution_count": 20
  },
  {
   "metadata": {
    "ExecuteTime": {
     "end_time": "2024-08-02T16:46:38.269924Z",
     "start_time": "2024-08-02T16:46:38.255072Z"
    }
   },
   "cell_type": "code",
   "source": "from typing import Dict",
   "id": "dbd9454417b7bec8",
   "outputs": [],
   "execution_count": 21
  },
  {
   "metadata": {
    "ExecuteTime": {
     "end_time": "2024-08-02T16:50:16.348558Z",
     "start_time": "2024-08-02T16:50:16.324560Z"
    }
   },
   "cell_type": "code",
   "source": [
    "def map_to_database(values: Dict)->str:\n",
    "    \"\"\"\n",
    "    Maps the values to entities in the database and returns the mapping information.\n",
    "\n",
    "    :param values: A dict of values to map entities in database.\n",
    "    :return: A string containing the mapping information of each value to entities in the database.\n",
    "    \"\"\"\n",
    "    \n",
    "    # Extract parameters directly from the input values\n",
    "    min_price = values.get('min_price', None) \n",
    "    max_price = values.get('max_price', None)\n",
    "    bedrooms = values.get('bedrooms', None)\n",
    "    baths = values.get('baths', None)\n",
    "    sqft_living = values.get('sqft_living', None)\n",
    "    sqft_lot = values.get('sqft_lot', None)\n",
    "    floors = values.get('floors', None)\n",
    "    condition = values.get('condition', None)\n",
    "    sqft_basement = values.get('sqft_basement', None)\n",
    "    yr_built = values.get('yr_built', None)\n",
    "    yr_renovated = values.get('yr_renovated', None)\n",
    "    street = values.get('street', None)\n",
    "    city = values.get('city', None)\n",
    "    limit = values.get('limit', 5)\n",
    "\n",
    "    # Log the actual parameters being used\n",
    "    print(f\"min_price: {min_price}, max_price: {max_price}, bedrooms: {bedrooms}, \"\n",
    "          f\"baths: {baths}, sqftLiving: {sqft_living}, sqftLot: {sqft_lot}, \"\n",
    "          f\"floors: {floors}, condition: {condition}, sqftBasement: {sqft_basement}, \"\n",
    "          f\"yrBuilt: {yr_built}, yrRenovated: {yr_renovated}, city: {city}, \"\n",
    "          f\"street: {street}, limit: {limit}\")\n",
    "    \n",
    "    match_query = \"\"\"\n",
    "    MATCH (h:House)\n",
    "    WHERE \n",
    "        ($min_price IS NULL OR h.price >= $min_price) AND\n",
    "        ($max_price IS NULL OR h.price <= $max_price AND h.price >= $max_price - 100.000) AND\n",
    "        ($bedrooms IS NULL OR h.bedrooms = $bedrooms) AND\n",
    "        ($baths IS NULL OR h.baths = $baths) AND\n",
    "        ($sqftLiving IS NULL OR h.sqft_living >= $sqftLiving) AND\n",
    "        ($sqftLot IS NULL OR h.sqft_lot >= $sqftLot) AND\n",
    "        ($floors IS NULL OR h.floors = $floors) AND\n",
    "        ($condition IS NULL OR h.condition = $condition) AND\n",
    "        ($sqftBasement IS NULL OR h.sqft_basement = $sqftBasement) AND\n",
    "        ($yrBuilt IS NULL OR h.yr_built >= $yrBuilt) AND\n",
    "        ($yrRenovated IS NULL OR h.yr_renovated >= $yrRenovated)\n",
    "    MATCH (h)-[:LOCATED_ON]->(s:Street)\n",
    "    WHERE \n",
    "        ($street IS NULL OR s.name = $street)\n",
    "    MATCH (h)-[:LOCATED_IN]->(c:City)\n",
    "    WHERE \n",
    "        ($city IS NULL OR c.name = $city)\n",
    "    RETURN h, s, c\n",
    "    LIMIT $limit\n",
    "    \"\"\"\n",
    "    wrong_one = {'min_price': None, 'max_price': None, 'bedrooms': None, 'baths': None, 'sqftLiving': None, 'sqftLot': None, 'floors': 1, 'condition': None, 'sqftBasement': None, 'yrBuilt': None, 'yrRenovated': None, 'street': None, 'city': None, 'limit': None}\n",
    "    \n",
    "    right_one = {'min_price': None, 'max_price': None, 'bedrooms': None, 'baths': None, 'sqftLiving': None, 'sqftLot': None, 'floors': 1, 'condition': None, 'sqftBasement': None, 'yrBuilt': None, 'yrRenovated': None, 'street': None, 'city': None, 'limit': 5}\n",
    "    # query_response = graph.query(match_query, wrong_one)\n",
    "    right_one = {\n",
    "            \"min_price\": min_price,\n",
    "            \"max_price\": max_price,\n",
    "            \"bedrooms\": bedrooms,\n",
    "            \"baths\": baths,\n",
    "            \"sqftLiving\": sqft_living,\n",
    "            \"sqftLot\": sqft_lot,\n",
    "            \"floors\": floors,\n",
    "            \"condition\": condition,\n",
    "            \"sqftBasement\": sqft_basement,\n",
    "            \"yrBuilt\": yr_built,\n",
    "            \"yrRenovated\": yr_renovated,\n",
    "            \"street\": street,\n",
    "            \"city\": city,\n",
    "            \"limit\": limit\n",
    "        }\n",
    "    \n",
    "    print(right_one)\n",
    "\n",
    "    # Query the database with parameters\n",
    "    query_response = graph.query(\n",
    "        match_query, right_one\n",
    "    )\n",
    "\n",
    "    # Process each result\n",
    "    result = \"\"\n",
    "\n",
    "    if query_response:\n",
    "        for record in query_response:\n",
    "            house = record.get('h', None)\n",
    "            street_info = record.get('s', None)\n",
    "            city_info = record.get('c', None)\n",
    "\n",
    "            street_name = street_info['name'] if street_info else \"N/A\"\n",
    "            city_name = city_info['name'] if city_info else \"N/A\"\n",
    "\n",
    "            result += (\n",
    "                f\"House found: Price of the house: {house['price']}, Number of bedrooms: {house['bedrooms']}, \"\n",
    "                f\"Number of bathrooms: {house['baths']}, Square footage of living space: {house['sqft_living']}, \"\n",
    "                f\"Total area of the land : {house['sqft_lot']} ft, Number of floors: {int(house['floors'])}, \"\n",
    "                f\"Condition: {house['condition']}, Area of the basement: {house['sqft_basement']} ft, \"\n",
    "                f\"Year Built: {house['yr_built']}, Year Renovated: {house['yr_renovated']}, \"\n",
    "                f\"Street: {street_name}, City: {city_name}\\n\"\n",
    "            )\n",
    "    else:\n",
    "        result += \"No matching house found in the database.\\n\"\n",
    "    return result"
   ],
   "id": "8e926f7ec82a4489",
   "outputs": [],
   "execution_count": 28
  },
  {
   "metadata": {
    "ExecuteTime": {
     "end_time": "2024-08-02T16:50:16.986140Z",
     "start_time": "2024-08-02T16:50:16.981986Z"
    }
   },
   "cell_type": "code",
   "source": "test_question = \"I want a house with 1 floor\"",
   "id": "fde80257e45823e",
   "outputs": [],
   "execution_count": 29
  },
  {
   "metadata": {
    "ExecuteTime": {
     "end_time": "2024-08-02T16:50:18.292855Z",
     "start_time": "2024-08-02T16:50:17.313985Z"
    }
   },
   "cell_type": "code",
   "source": [
    "question = test_question\n",
    "extracted_attributes = extract_attributes(system_role, question)\n",
    "mapped_attributes = map_to_database(extracted_attributes)\n",
    "print(question)\n",
    "print(extracted_attributes)\n",
    "print(mapped_attributes)"
   ],
   "id": "323622033f97154f",
   "outputs": [
    {
     "name": "stdout",
     "output_type": "stream",
     "text": [
      "min_price: None, max_price: None, bedrooms: None, baths: None, sqftLiving: None, sqftLot: None, floors: 1, condition: None, sqftBasement: None, yrBuilt: None, yrRenovated: None, city: None, street: None, limit: 5\n",
      "{'min_price': None, 'max_price': None, 'bedrooms': None, 'baths': None, 'sqftLiving': None, 'sqftLot': None, 'floors': 1, 'condition': None, 'sqftBasement': None, 'yrBuilt': None, 'yrRenovated': None, 'street': None, 'city': None, 'limit': 5}\n",
      "I want a house with 1 floor\n",
      "{'floors': 1}\n",
      "House found: Price of the house: 805000, Number of bedrooms: 5, Number of bathrooms: 3, Square footage of living space: 4600, Total area of the land : 19831 ft, Number of floors: 1, Condition: 3, Area of the basement: 2300 ft, Year Built: 1956, Year Renovated: 2013, Street: 18015 15th Ave NW, City: Shoreline\n",
      "House found: Price of the house: 275000, Number of bedrooms: 2, Number of bathrooms: 1, Square footage of living space: 1180, Total area of the land : 6552 ft, Number of floors: 1, Condition: 4, Area of the basement: 0 ft, Year Built: 1949, Year Renovated: 1985, Street: 16341 Interlake Ave N, City: Shoreline\n",
      "House found: Price of the house: 282508, Number of bedrooms: 3, Number of bathrooms: 1, Square footage of living space: 1180, Total area of the land : 5002 ft, Number of floors: 1, Condition: 3, Area of the basement: 0 ft, Year Built: 1946, Year Renovated: 0, Street: 17022 5th Ave NE, City: Shoreline\n",
      "House found: Price of the house: 668750, Number of bedrooms: 4, Number of bathrooms: 3, Square footage of living space: 2340, Total area of the land : 6420 ft, Number of floors: 1, Condition: 3, Area of the basement: 750 ft, Year Built: 1964, Year Renovated: 2000, Street: 2148 NW 197th St, City: Shoreline\n",
      "House found: Price of the house: 352500, Number of bedrooms: 3, Number of bathrooms: 2, Square footage of living space: 1170, Total area of the land : 8182 ft, Number of floors: 1, Condition: 3, Area of the basement: 0 ft, Year Built: 1962, Year Renovated: 2003, Street: 14737 28th Ave NE, City: Shoreline\n",
      "\n"
     ]
    }
   ],
   "execution_count": 30
  },
  {
   "metadata": {},
   "cell_type": "markdown",
   "source": "Final output",
   "id": "44e756eb913d9c4d"
  },
  {
   "metadata": {
    "ExecuteTime": {
     "end_time": "2024-08-02T16:46:39.651083Z",
     "start_time": "2024-08-02T16:46:39.650030Z"
    }
   },
   "cell_type": "code",
   "source": [
    "system_message = \"\"\"\n",
    "You are an AI assistant designed to present information about houses in a user-friendly format. Your task is to reformat a list of house details into a clear and structured format that enhances readability and understanding.\n",
    "\n",
    "Each house listing should be presented with key details highlighted in a way that users can quickly grasp important information. Use bullet points or other formatting techniques to separate different attributes.\n",
    "\n",
    "When certain attributes have a value of 0, such as \"Area of the basement\" or \"Year Renovated,\" provide additional explanations to the user:\n",
    "- If \"Area of the basement\" is 0, indicate that the house does not have a basement.\n",
    "- If \"Year Renovated\" is 0, indicate that the house has not been renovated.\n",
    "\n",
    "Ensure that the information is consistent and easy to read, maintaining a professional and approachable tone. Here is how each house listing should be structured:\n",
    "\n",
    "- **Price**: [Formatted Price]\n",
    "- **Number of Bedrooms**: [Bedrooms]\n",
    "- **Number of Bathrooms**: [Bathrooms]\n",
    "- **Square Footage of Living Space**: [Sqft Living]\n",
    "- **Total Area of the Land**: [Sqft Lot]\n",
    "- **Number of Floors**: [Floors]\n",
    "- **Condition**: [Condition Rating]\n",
    "- **Area of the Basement**: [Sqft Basement] (or indicate \"No Basement\" if 0)\n",
    "- **Year Built**: [Yr Built]\n",
    "- **Year Renovated**: [Yr Renovated] (or indicate \"Not Renovated\" if 0)\n",
    "- **Street**: [Street Name]\n",
    "- **City**: [City Name]\n",
    "\n",
    "Add any additional formatting that improves clarity and user engagement.\n",
    "\"\"\""
   ],
   "id": "487579199de7a370",
   "outputs": [],
   "execution_count": null
  },
  {
   "metadata": {},
   "cell_type": "code",
   "source": "",
   "id": "d94c6d7aea93588e",
   "outputs": [],
   "execution_count": null
  },
  {
   "metadata": {},
   "cell_type": "code",
   "source": [
    "def generate_final_output(llm_role):\n",
    "    # User prompt\n",
    "    user_prompt = mapped_attributes\n",
    "    \n",
    "    # Create the chat completion\n",
    "    llm_response = client.chat.completions.create(\n",
    "        model=\"gpt-4o-mini\",  # Specify the model you want to use\n",
    "        messages=[\n",
    "            {\"role\": \"system\", \"content\": llm_role},\n",
    "            {\"role\": \"user\", \"content\": user_prompt}\n",
    "        ]\n",
    "    )\n",
    "    \n",
    "    return llm_response.choices[0].message.content"
   ],
   "id": "b5a04dacbc77306a",
   "outputs": [],
   "execution_count": null
  },
  {
   "metadata": {},
   "cell_type": "code",
   "source": "print(generate_final_output(system_message))",
   "id": "a3d775f3d781d40e",
   "outputs": [],
   "execution_count": null
  },
  {
   "metadata": {},
   "cell_type": "code",
   "source": "",
   "id": "56197aca5b7a64ce",
   "outputs": [],
   "execution_count": null
  }
 ],
 "metadata": {
  "kernelspec": {
   "display_name": "Python 3",
   "language": "python",
   "name": "python3"
  },
  "language_info": {
   "codemirror_mode": {
    "name": "ipython",
    "version": 2
   },
   "file_extension": ".py",
   "mimetype": "text/x-python",
   "name": "python",
   "nbconvert_exporter": "python",
   "pygments_lexer": "ipython2",
   "version": "2.7.6"
  }
 },
 "nbformat": 4,
 "nbformat_minor": 5
}
